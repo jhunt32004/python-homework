{
 "cells": [
  {
   "cell_type": "code",
   "execution_count": 7,
   "id": "d7ed577c-4cee-4ff8-8252-b183e3ff1e4a",
   "metadata": {},
   "outputs": [],
   "source": [
    "#Importing dependencies\n",
    "import pandas as pd"
   ]
  },
  {
   "cell_type": "code",
   "execution_count": 8,
   "id": "affbccb5-b42c-4ea9-a368-00823ad0bb66",
   "metadata": {},
   "outputs": [],
   "source": [
    "#referencing budget_data for future variable\n",
    "csv_name = 'budget_data.csv'"
   ]
  },
  {
   "cell_type": "code",
   "execution_count": 9,
   "id": "5c9844c4-aca7-4acb-935b-b41e7c20ed99",
   "metadata": {},
   "outputs": [],
   "source": [
    "# Importing budget_data.csv as python dataframe\n",
    "budget_data = pd.read_csv(csv_name)"
   ]
  },
  {
   "cell_type": "code",
   "execution_count": 10,
   "id": "45d8ce91-1a50-46a9-aa80-aa0639092b1c",
   "metadata": {},
   "outputs": [
    {
     "name": "stdout",
     "output_type": "stream",
     "text": [
      "Financial Analysis\n",
      "---------------------------\n"
     ]
    }
   ],
   "source": [
    "#Making financial analysis header \n",
    "header_output = (\"Financial Analysis\\n---------------------------\")\n",
    "print (header_output)"
   ]
  },
  {
   "cell_type": "code",
   "execution_count": 12,
   "id": "19ee52ba-6ede-47f0-b2e0-9eaf97bd232b",
   "metadata": {},
   "outputs": [],
   "source": [
    "#creating month variable for future calls\n",
    "months = budget_data['Date'].count()"
   ]
  },
  {
   "cell_type": "code",
   "execution_count": 13,
   "id": "a63c32f9-4d33-4890-88ae-dbe8848b2a5c",
   "metadata": {},
   "outputs": [],
   "source": [
    "months_output = (\"Total Months:\"+str(months))"
   ]
  },
  {
   "cell_type": "code",
   "execution_count": 14,
   "id": "73e79d6b-7e34-4400-9c0d-65e44e3ce857",
   "metadata": {},
   "outputs": [
    {
     "name": "stdout",
     "output_type": "stream",
     "text": [
      "Total Months:86\n"
     ]
    }
   ],
   "source": [
    "# print of total months\n",
    "print(months_output)"
   ]
  },
  {
   "cell_type": "code",
   "execution_count": 18,
   "id": "d161209b-4cd6-44fb-8f82-9dece923ed25",
   "metadata": {},
   "outputs": [],
   "source": [
    "#store total amount of \"Profit/Losses\" over entire period to Total_Profit_losses variable \n",
    "Total_Profit_losses = budget_data['Profit/Losses'].sum()"
   ]
  },
  {
   "cell_type": "code",
   "execution_count": 21,
   "id": "553f958b-3715-431c-8f90-6bde20b863fc",
   "metadata": {},
   "outputs": [],
   "source": [
    "Total_output = (\"Total: $\" +str(Total_Profit_losses))"
   ]
  },
  {
   "cell_type": "code",
   "execution_count": 22,
   "id": "4829880e-8942-4243-9534-2e118b7ff761",
   "metadata": {},
   "outputs": [
    {
     "name": "stdout",
     "output_type": "stream",
     "text": [
      "Total: $38382578\n"
     ]
    }
   ],
   "source": [
    "#print total of \"Profit/Losses\"\n",
    "print(Total_output)"
   ]
  },
  {
   "cell_type": "code",
   "execution_count": 23,
   "id": "fe4ea523-8b77-44b6-9aca-e78b969e9055",
   "metadata": {},
   "outputs": [],
   "source": [
    "#store changes between months in \"Profit/Losses\" column to a panda series \n",
    "budget_data['Diff'] = budget_data['Profit/Losses'] - budget_data['Profit/Losses'].shift(1)"
   ]
  },
  {
   "cell_type": "code",
   "execution_count": 24,
   "id": "8ae62c5b-ad6c-426c-a178-c1df930e8554",
   "metadata": {},
   "outputs": [],
   "source": [
    "#store of the average differences in \"Profit/Losses\" to Avg_Dif\n",
    "Avg_Dif = round(budget_data['Diff'].mean(),2)\n",
    "Avg_Dif_output = (\"Average Change: $\" +str(Avg_Dif))"
   ]
  },
  {
   "cell_type": "code",
   "execution_count": 25,
   "id": "02d53561-e062-4c4f-8eb7-4fecb3cd0c4f",
   "metadata": {},
   "outputs": [
    {
     "name": "stdout",
     "output_type": "stream",
     "text": [
      "Average Change: $-2315.12\n"
     ]
    }
   ],
   "source": [
    "#print of the Avg_Dif\n",
    "print(Avg_Dif_output)"
   ]
  },
  {
   "cell_type": "code",
   "execution_count": 32,
   "id": "11440537-e4f8-4185-814d-9b47b0772699",
   "metadata": {},
   "outputs": [],
   "source": [
    "#storing the Greatest  increase in profits using max function\n",
    "Max_profit = int(budget_data['Diff'].max())"
   ]
  },
  {
   "cell_type": "code",
   "execution_count": 34,
   "id": "86b74d33-de53-43a0-be50-b8adb7e9c361",
   "metadata": {},
   "outputs": [],
   "source": [
    "#Getting the month of the Greatest increase in profits using idxmax function \n",
    "increase_month = budget_data['Date'].loc[budget_data['Diff'].idxmax()]"
   ]
  },
  {
   "cell_type": "code",
   "execution_count": 36,
   "id": "05b74d9c-2bce-4138-b55c-4d254c29aa41",
   "metadata": {},
   "outputs": [],
   "source": [
    "increase_month_output = (\"Greatest Increase in Profits:\"+increase_month +\" ($\"+str(Max_profit)+\")\")"
   ]
  },
  {
   "cell_type": "code",
   "execution_count": 37,
   "id": "88fa2f51-e985-4501-85d0-7d8f1aa433cc",
   "metadata": {},
   "outputs": [
    {
     "name": "stdout",
     "output_type": "stream",
     "text": [
      "Greatest Increase in Profits:Feb-2012 ($1926159)\n"
     ]
    }
   ],
   "source": [
    "print(increase_month_output)"
   ]
  },
  {
   "cell_type": "code",
   "execution_count": 38,
   "id": "de3423d6-3ccd-424e-9354-24183a847126",
   "metadata": {},
   "outputs": [],
   "source": [
    "#Storing the greatest decrease in Profits using min fucntion\n",
    "Minimum_decrease = int(budget_data['Diff'].min())"
   ]
  },
  {
   "cell_type": "code",
   "execution_count": 39,
   "id": "a0eedb25-49c9-434e-bb4d-ecc31ae0b695",
   "metadata": {},
   "outputs": [],
   "source": [
    "#Getting the month of greatest decrease in profits\n",
    "decrease_month = budget_data['Date'].loc[budget_data['Diff'].idxmin()]"
   ]
  },
  {
   "cell_type": "code",
   "execution_count": 42,
   "id": "b9a1990d-072f-415b-994a-aded15135cdc",
   "metadata": {},
   "outputs": [],
   "source": [
    "decrease_month_output = (\"Greatest Decrease in Profits:\"+decrease_month +\" ($\"+str(Minimum_decrease)+\")\")"
   ]
  },
  {
   "cell_type": "code",
   "execution_count": 43,
   "id": "ea1c5b0b-e5a7-4a8d-9f8e-611d44bea24c",
   "metadata": {},
   "outputs": [
    {
     "name": "stdout",
     "output_type": "stream",
     "text": [
      "Greatest Decrease in Profits:Sep-2013 ($-2196167)\n"
     ]
    }
   ],
   "source": [
    "print(decrease_month_output)"
   ]
  },
  {
   "cell_type": "code",
   "execution_count": 44,
   "id": "37b7814d-ec74-44d5-a522-abdcceaa64dd",
   "metadata": {},
   "outputs": [],
   "source": [
    "with open(\"budget_data.txt\", \"w+\") as output:\n",
    "    output.write(f'{header_output}\\n{months_output}\\n{Total_output}\\n{Avg_Dif_output}\\n{increase_month_output}\\n{decrease_month_output} ')"
   ]
  },
  {
   "cell_type": "code",
   "execution_count": null,
   "id": "d49dc8a3-3773-4225-813a-e24f363e993d",
   "metadata": {},
   "outputs": [],
   "source": []
  }
 ],
 "metadata": {
  "kernelspec": {
   "display_name": "Python 3",
   "language": "python",
   "name": "python3"
  },
  "language_info": {
   "codemirror_mode": {
    "name": "ipython",
    "version": 3
   },
   "file_extension": ".py",
   "mimetype": "text/x-python",
   "name": "python",
   "nbconvert_exporter": "python",
   "pygments_lexer": "ipython3",
   "version": "3.8.5"
  }
 },
 "nbformat": 4,
 "nbformat_minor": 5
}
